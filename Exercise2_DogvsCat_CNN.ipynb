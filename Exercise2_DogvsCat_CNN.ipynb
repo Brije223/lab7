{
  "nbformat": 4,
  "nbformat_minor": 0,
  "metadata": {
    "colab": {
      "name": "Exercise2_DogvsCat_CNN.ipynb",
      "provenance": []
    },
    "kernelspec": {
      "name": "python3",
      "display_name": "Python 3"
    },
    "accelerator": "GPU"
  },
  "cells": [
    {
      "cell_type": "markdown",
      "metadata": {
        "id": "qTh9DiKVslsJ"
      },
      "source": [
        "## Dogs vs. Cats \n",
        "\n",
        "In this competition, you'll write an algorithm to classify whether images contain either a dog or a cat.  This is easy for humans, dogs, and cats. Your computer will find it a bit more difficult.\n",
        "\n",
        "![alt text](https://miro.medium.com/max/3000/1*bhFifratH9DjKqMBTeQG5A.gif)\n",
        "\n",
        "Ref: https://medium.com/@thegrigorian/rolling-in-the-deep-cnn-c8d3f7108c8c"
      ]
    },
    {
      "cell_type": "markdown",
      "metadata": {
        "id": "RSBI-_mSSY1g"
      },
      "source": [
        "Get your API Key from Kaggle using following steps:\n",
        "1. Login to [Kaggle](https://www.kaggle.com/) or Register if you don't have account\n",
        "2. Open Dataset (https://www.kaggle.com/c/dogs-vs-cats/rules) and accept terms and condition. \n",
        "3. On the top right corner click on your Icon and go to accounts and press a button \"Create New API Token\". It will download a JSON file containing your username and key. \n",
        "4. Now, paste both below. \n"
      ]
    },
    {
      "cell_type": "code",
      "metadata": {
        "id": "YmXSOc0tZIGA",
        "colab": {
          "base_uri": "https://localhost:8080/"
        },
        "outputId": "3d1960e5-232a-4a8c-8d8a-4090cb1ab374"
      },
      "source": [
        "import os\n",
        "os.environ['KAGGLE_USERNAME'] = \"sagihaider\" # username from the json file\n",
        "os.environ['KAGGLE_KEY'] = \"xxx\" # key from the json file\n",
        "!kaggle competitions download -c dogs-vs-cats # api copied from kaggle (https://www.kaggle.com/c/dogs-vs-cats/data)"
      ],
      "execution_count": 1,
      "outputs": [
        {
          "output_type": "stream",
          "text": [
            "Warning: Looks like you're using an outdated API Version, please consider updating (server 1.5.12 / client 1.5.4)\n",
            "Downloading train.zip to /content\n",
            " 98% 530M/543M [00:05<00:00, 88.2MB/s]\n",
            "100% 543M/543M [00:05<00:00, 105MB/s] \n",
            "Downloading test1.zip to /content\n",
            " 93% 252M/271M [00:01<00:00, 156MB/s]\n",
            "100% 271M/271M [00:01<00:00, 147MB/s]\n",
            "Downloading sampleSubmission.csv to /content\n",
            "  0% 0.00/86.8k [00:00<?, ?B/s]\n",
            "100% 86.8k/86.8k [00:00<00:00, 26.1MB/s]\n"
          ],
          "name": "stdout"
        }
      ]
    },
    {
      "cell_type": "code",
      "metadata": {
        "id": "PiwIL8d1n7eS",
        "colab": {
          "base_uri": "https://localhost:8080/"
        },
        "outputId": "84a47438-8597-4449-f5ee-0396a732f4c1"
      },
      "source": [
        "# Unzip training data\n",
        "from zipfile import ZipFile\n",
        "file_name = \"/content/train.zip\"\n",
        "with ZipFile(file_name, 'r') as zip:\n",
        "  zip.extractall()\n",
        "  print('done')"
      ],
      "execution_count": 2,
      "outputs": [
        {
          "output_type": "stream",
          "text": [
            "done\n"
          ],
          "name": "stdout"
        }
      ]
    },
    {
      "cell_type": "code",
      "metadata": {
        "id": "sa2Bj5i7pPKV",
        "outputId": "90b6a684-8627-4a0f-93eb-dcb611f9ce97",
        "colab": {
          "base_uri": "https://localhost:8080/"
        }
      },
      "source": [
        "# Get all the paths\n",
        "data_dir_list = os.listdir('/content/train')\n",
        "#print(data_dir_list)\n",
        "path, dirs, files = next(os.walk(\"/content/train\"))\n",
        "file_count = len(files)\n",
        "print(file_count)"
      ],
      "execution_count": 3,
      "outputs": [
        {
          "output_type": "stream",
          "text": [
            "25000\n"
          ],
          "name": "stdout"
        }
      ]
    },
    {
      "cell_type": "code",
      "metadata": {
        "id": "0ERlHkfHqpK8"
      },
      "source": [
        "# Make new base directory\n",
        "original_dataset_dir = '/content/train'\n",
        "base_dir = '/content/cats_and_dogs_small'\n",
        "os.mkdir(base_dir)"
      ],
      "execution_count": 4,
      "outputs": []
    },
    {
      "cell_type": "code",
      "metadata": {
        "id": "AANB1UJ6rQhM"
      },
      "source": [
        "train_dir = os.path.join(base_dir, 'train')\n",
        "os.mkdir(train_dir)\n",
        "\n",
        "validation_dir = os.path.join(base_dir, 'validation')\n",
        "os.mkdir(validation_dir)\n",
        "\n",
        "test_dir = os.path.join(base_dir, 'test')\n",
        "os.mkdir(test_dir)\n",
        "\n",
        "train_cats_dir = os.path.join(train_dir, 'cats')\n",
        "os.mkdir(train_cats_dir)\n",
        "\n",
        "train_dogs_dir = os.path.join(train_dir, 'dogs')\n",
        "os.mkdir(train_dogs_dir)\n",
        "\n",
        "validation_cats_dir = os.path.join(validation_dir, 'cats')\n",
        "os.mkdir(validation_cats_dir)\n",
        "\n",
        "validation_dogs_dir = os.path.join(validation_dir, 'dogs')\n",
        "os.mkdir(validation_dogs_dir)\n",
        "\n",
        "test_cats_dir = os.path.join(test_dir, 'cats')\n",
        "os.mkdir(test_cats_dir)\n",
        "\n",
        "test_dogs_dir = os.path.join(test_dir, 'dogs')\n",
        "os.mkdir(test_dogs_dir)"
      ],
      "execution_count": 5,
      "outputs": []
    },
    {
      "cell_type": "code",
      "metadata": {
        "id": "ULRgL9s9rV8T"
      },
      "source": [
        "import shutil\n",
        "fnames = ['cat.{}.jpg'.format(i) for i in range(1000)]\n",
        "for fname in fnames:\n",
        "    src = os.path.join(original_dataset_dir, fname)\n",
        "    dst = os.path.join(train_cats_dir, fname)\n",
        "    #print(src,dst)\n",
        "    shutil.copyfile(src, dst)\n",
        "    \n",
        "fnames = ['cat.{}.jpg'.format(i) for i in range(1000, 1500)]\n",
        "for fname in fnames:\n",
        "    src = os.path.join(original_dataset_dir, fname)\n",
        "    dst = os.path.join(validation_cats_dir, fname)\n",
        "    shutil.copyfile(src, dst)\n",
        "\n",
        "fnames = ['cat.{}.jpg'.format(i) for i in range(1500, 2000)]\n",
        "for fname in fnames:\n",
        "    src = os.path.join(original_dataset_dir, fname)\n",
        "    dst = os.path.join(test_cats_dir, fname)\n",
        "    shutil.copyfile(src, dst)\n",
        "    \n",
        "fnames = ['dog.{}.jpg'.format(i) for i in range(1000)]\n",
        "for fname in fnames:\n",
        "    src = os.path.join(original_dataset_dir, fname)\n",
        "    dst = os.path.join(train_dogs_dir, fname)\n",
        "    shutil.copyfile(src, dst)\n",
        "\n",
        "fnames = ['dog.{}.jpg'.format(i) for i in range(1000, 1500)]\n",
        "for fname in fnames:\n",
        "    src = os.path.join(original_dataset_dir, fname)\n",
        "    dst = os.path.join(validation_dogs_dir, fname)\n",
        "    shutil.copyfile(src, dst)\n",
        "\n",
        "fnames = ['dog.{}.jpg'.format(i) for i in range(1500, 2000)]\n",
        "for fname in fnames:\n",
        "    src = os.path.join(original_dataset_dir, fname)\n",
        "    dst = os.path.join(test_dogs_dir, fname)\n",
        "    shutil.copyfile(src, dst)"
      ],
      "execution_count": 6,
      "outputs": []
    },
    {
      "cell_type": "code",
      "metadata": {
        "id": "ul3XAbIyr7vC",
        "colab": {
          "base_uri": "https://localhost:8080/"
        },
        "outputId": "b3af88b1-b56f-4a1c-c0a8-bb73906e49fb"
      },
      "source": [
        "print('total training cat images:', len(os.listdir(train_cats_dir)))\n",
        "print('total training dog images:', len(os.listdir(train_dogs_dir)))\n",
        "print('total validation cat images:', len(os.listdir(validation_cats_dir)))\n",
        "\n",
        "print('total validation dog images:', len(os.listdir(validation_dogs_dir)))\n",
        "print('total test cat images:', len(os.listdir(test_cats_dir)))\n",
        "print('total test dog images:', len(os.listdir(test_dogs_dir)))"
      ],
      "execution_count": 7,
      "outputs": [
        {
          "output_type": "stream",
          "text": [
            "total training cat images: 1000\n",
            "total training dog images: 1000\n",
            "total validation cat images: 500\n",
            "total validation dog images: 500\n",
            "total test cat images: 500\n",
            "total test dog images: 500\n"
          ],
          "name": "stdout"
        }
      ]
    },
    {
      "cell_type": "code",
      "metadata": {
        "id": "o9yTA21_r-ma",
        "colab": {
          "base_uri": "https://localhost:8080/"
        },
        "outputId": "809b8d4d-813d-452d-c2bc-cc1aae021e69"
      },
      "source": [
        "from keras import layers\n",
        "from keras import models\n",
        "\n",
        "model = models.Sequential()\n",
        "model.add(layers.Conv2D(32, (3, 3), activation='relu', input_shape=(150, 150, 3)))\n",
        "model.add(layers.MaxPooling2D((2, 2)))\n",
        "model.add(layers.Conv2D(64, (3, 3), activation='relu'))\n",
        "model.add(layers.MaxPooling2D((2, 2)))\n",
        "model.add(layers.Conv2D(128, (3, 3), activation='relu'))\n",
        "model.add(layers.MaxPooling2D((2, 2)))\n",
        "model.add(layers.Conv2D(128, (3, 3), activation='relu'))\n",
        "model.add(layers.MaxPooling2D((2, 2)))\n",
        "model.add(layers.Flatten())\n",
        "model.add(layers.Dense(512, activation='relu'))\n",
        "model.add(layers.Dense(1, activation='sigmoid'))\n",
        "model.summary()"
      ],
      "execution_count": 8,
      "outputs": [
        {
          "output_type": "stream",
          "text": [
            "Model: \"sequential\"\n",
            "_________________________________________________________________\n",
            "Layer (type)                 Output Shape              Param #   \n",
            "=================================================================\n",
            "conv2d (Conv2D)              (None, 148, 148, 32)      896       \n",
            "_________________________________________________________________\n",
            "max_pooling2d (MaxPooling2D) (None, 74, 74, 32)        0         \n",
            "_________________________________________________________________\n",
            "conv2d_1 (Conv2D)            (None, 72, 72, 64)        18496     \n",
            "_________________________________________________________________\n",
            "max_pooling2d_1 (MaxPooling2 (None, 36, 36, 64)        0         \n",
            "_________________________________________________________________\n",
            "conv2d_2 (Conv2D)            (None, 34, 34, 128)       73856     \n",
            "_________________________________________________________________\n",
            "max_pooling2d_2 (MaxPooling2 (None, 17, 17, 128)       0         \n",
            "_________________________________________________________________\n",
            "conv2d_3 (Conv2D)            (None, 15, 15, 128)       147584    \n",
            "_________________________________________________________________\n",
            "max_pooling2d_3 (MaxPooling2 (None, 7, 7, 128)         0         \n",
            "_________________________________________________________________\n",
            "flatten (Flatten)            (None, 6272)              0         \n",
            "_________________________________________________________________\n",
            "dense (Dense)                (None, 512)               3211776   \n",
            "_________________________________________________________________\n",
            "dense_1 (Dense)              (None, 1)                 513       \n",
            "=================================================================\n",
            "Total params: 3,453,121\n",
            "Trainable params: 3,453,121\n",
            "Non-trainable params: 0\n",
            "_________________________________________________________________\n"
          ],
          "name": "stdout"
        }
      ]
    },
    {
      "cell_type": "code",
      "metadata": {
        "id": "2mG8wekxsBVS"
      },
      "source": [
        "from keras import optimizers\n",
        "model.compile(loss='binary_crossentropy', \n",
        "              optimizer=optimizers.RMSprop(lr=1e-4),\n",
        "              metrics=['acc'])"
      ],
      "execution_count": 9,
      "outputs": []
    },
    {
      "cell_type": "markdown",
      "metadata": {
        "id": "7zS4Klm8qWp6"
      },
      "source": [
        "## Using ImageDataGenerator to read images from directories\n",
        "As you know by now, data should be formatted into appropriately preprocessed floatingpoint tensors before being fed into the network. Currently, the data sits on a drive as JPEG files, so the steps for getting it into the network are roughly as follows:\n",
        "\n",
        "* Read the picture files.\n",
        "* Decode the JPEG content to RGB grids of pixels.\n",
        "* Convert these into floating-point tensors.\n",
        "* Rescale the pixel values (between 0 and 255) to the [0, 1] interval (as you know, neural networks prefer to deal with small input values).\n",
        "\n",
        "It may seem a bit daunting, but fortunately Keras has utilities to take care of these steps automatically. Keras has a module with image-processing helper tools, located at keras.preprocessing.image. In particular, it contains the class ImageDataGenerator,which lets you quickly set up Python generators that can automatically turn image files on disk into batches of preprocessed tensors."
      ]
    },
    {
      "cell_type": "code",
      "metadata": {
        "id": "XJ7XU7t9sEh6",
        "colab": {
          "base_uri": "https://localhost:8080/"
        },
        "outputId": "368a13b8-9b61-42c4-b19a-720845aaaffe"
      },
      "source": [
        "from keras.preprocessing.image import ImageDataGenerator\n",
        "\n",
        "train_datagen = ImageDataGenerator(rescale=1./255)\n",
        "test_datagen = ImageDataGenerator(rescale=1./255)\n",
        "\n",
        "train_generator = train_datagen.flow_from_directory(train_dir,\n",
        "                                                    target_size=(150, 150), \n",
        "                                                    batch_size=20,\n",
        "                                                    class_mode='binary')\n",
        "\n",
        "validation_generator = test_datagen.flow_from_directory(validation_dir,\n",
        "                                                        target_size=(150, 150),\n",
        "                                                        batch_size=20,\n",
        "                                                        class_mode='binary')"
      ],
      "execution_count": 10,
      "outputs": [
        {
          "output_type": "stream",
          "text": [
            "Found 2000 images belonging to 2 classes.\n",
            "Found 1000 images belonging to 2 classes.\n"
          ],
          "name": "stdout"
        }
      ]
    },
    {
      "cell_type": "markdown",
      "metadata": {
        "id": "SEgLywySqm4u"
      },
      "source": [
        "Let’s fit the model to the data using the generator. You do so using the fit_generator method, the equivalent of fit for data generators like this one. It expects as its first argument a Python generator that will yield batches of inputs and targets indefinitely,like this one does. Because the data is being generated endlessly, the Keras model needs to know how many samples to draw from the generator before declaring anepoch over. This is the role of the `steps_per_epoch` argument: after having drawn `steps_per_epoch` batches from the generator—that is, after having run for `steps_per_epoch` gradient descent steps—the fitting process will go to the next epoch. In this case, batches are 20 samples, so it will take 100 batches until you see your target of 2,000 samples.\n",
        "\n",
        "When using fit_generator, you can pass a validation_data argument, much as with the fit method. It’s important to note that this argument is allowed to be a data generator, but it could also be a tuple of Numpy arrays. If you pass a generator as validation_data, then this generator is expected to yield batches of validation data endlessly; thus you should also specify the validation_steps argument, which tells the process how many batches to draw from the validation generator for evaluation."
      ]
    },
    {
      "cell_type": "code",
      "metadata": {
        "id": "yMyfPphJsJG6",
        "colab": {
          "base_uri": "https://localhost:8080/"
        },
        "outputId": "ab5c26c4-223e-4a3b-b4c0-661eccac00a6"
      },
      "source": [
        "history = model.fit_generator(train_generator,\n",
        "                              steps_per_epoch=100,\n",
        "                              epochs=30,\n",
        "                              validation_data=validation_generator,\n",
        "                              validation_steps=10)"
      ],
      "execution_count": 13,
      "outputs": [
        {
          "output_type": "stream",
          "text": [
            "/usr/local/lib/python3.7/dist-packages/tensorflow/python/keras/engine/training.py:1844: UserWarning: `Model.fit_generator` is deprecated and will be removed in a future version. Please use `Model.fit`, which supports generators.\n",
            "  warnings.warn('`Model.fit_generator` is deprecated and '\n"
          ],
          "name": "stderr"
        },
        {
          "output_type": "stream",
          "text": [
            "Epoch 1/30\n",
            "100/100 [==============================] - 9s 88ms/step - loss: 0.5836 - acc: 0.6970 - val_loss: 0.6354 - val_acc: 0.6550\n",
            "Epoch 2/30\n",
            "100/100 [==============================] - 9s 89ms/step - loss: 0.5523 - acc: 0.7170 - val_loss: 0.6194 - val_acc: 0.6250\n",
            "Epoch 3/30\n",
            "100/100 [==============================] - 9s 91ms/step - loss: 0.5180 - acc: 0.7385 - val_loss: 0.7137 - val_acc: 0.6200\n",
            "Epoch 4/30\n",
            "100/100 [==============================] - 9s 89ms/step - loss: 0.5030 - acc: 0.7500 - val_loss: 0.5554 - val_acc: 0.6900\n",
            "Epoch 5/30\n",
            "100/100 [==============================] - 9s 88ms/step - loss: 0.4796 - acc: 0.7740 - val_loss: 0.6175 - val_acc: 0.6800\n",
            "Epoch 6/30\n",
            "100/100 [==============================] - 9s 88ms/step - loss: 0.4560 - acc: 0.7860 - val_loss: 0.5660 - val_acc: 0.6950\n",
            "Epoch 7/30\n",
            "100/100 [==============================] - 9s 89ms/step - loss: 0.4372 - acc: 0.7990 - val_loss: 0.5352 - val_acc: 0.7400\n",
            "Epoch 8/30\n",
            "100/100 [==============================] - 9s 88ms/step - loss: 0.4127 - acc: 0.8140 - val_loss: 0.5764 - val_acc: 0.7400\n",
            "Epoch 9/30\n",
            "100/100 [==============================] - 9s 90ms/step - loss: 0.3832 - acc: 0.8235 - val_loss: 0.5628 - val_acc: 0.7250\n",
            "Epoch 10/30\n",
            "100/100 [==============================] - 9s 89ms/step - loss: 0.3693 - acc: 0.8410 - val_loss: 0.5566 - val_acc: 0.7250\n",
            "Epoch 11/30\n",
            "100/100 [==============================] - 9s 88ms/step - loss: 0.3425 - acc: 0.8590 - val_loss: 0.5147 - val_acc: 0.7500\n",
            "Epoch 12/30\n",
            "100/100 [==============================] - 9s 88ms/step - loss: 0.3174 - acc: 0.8620 - val_loss: 0.5814 - val_acc: 0.7300\n",
            "Epoch 13/30\n",
            "100/100 [==============================] - 9s 88ms/step - loss: 0.3072 - acc: 0.8645 - val_loss: 0.6007 - val_acc: 0.7400\n",
            "Epoch 14/30\n",
            "100/100 [==============================] - 9s 89ms/step - loss: 0.2814 - acc: 0.8925 - val_loss: 0.6520 - val_acc: 0.6900\n",
            "Epoch 15/30\n",
            "100/100 [==============================] - 9s 90ms/step - loss: 0.2635 - acc: 0.8920 - val_loss: 0.4989 - val_acc: 0.7500\n",
            "Epoch 16/30\n",
            "100/100 [==============================] - 9s 89ms/step - loss: 0.2436 - acc: 0.9070 - val_loss: 0.7744 - val_acc: 0.7050\n",
            "Epoch 17/30\n",
            "100/100 [==============================] - 9s 89ms/step - loss: 0.2227 - acc: 0.9150 - val_loss: 0.6446 - val_acc: 0.7250\n",
            "Epoch 18/30\n",
            "100/100 [==============================] - 9s 89ms/step - loss: 0.2044 - acc: 0.9195 - val_loss: 0.6534 - val_acc: 0.7550\n",
            "Epoch 19/30\n",
            "100/100 [==============================] - 9s 89ms/step - loss: 0.1872 - acc: 0.9305 - val_loss: 0.6665 - val_acc: 0.6850\n",
            "Epoch 20/30\n",
            "100/100 [==============================] - 9s 89ms/step - loss: 0.1687 - acc: 0.9365 - val_loss: 0.5819 - val_acc: 0.7700\n",
            "Epoch 21/30\n",
            "100/100 [==============================] - 9s 90ms/step - loss: 0.1558 - acc: 0.9460 - val_loss: 0.6862 - val_acc: 0.7600\n",
            "Epoch 22/30\n",
            "100/100 [==============================] - 9s 90ms/step - loss: 0.1373 - acc: 0.9485 - val_loss: 0.5663 - val_acc: 0.7550\n",
            "Epoch 23/30\n",
            "100/100 [==============================] - 9s 90ms/step - loss: 0.1286 - acc: 0.9580 - val_loss: 0.6012 - val_acc: 0.7500\n",
            "Epoch 24/30\n",
            "100/100 [==============================] - 9s 90ms/step - loss: 0.1098 - acc: 0.9630 - val_loss: 0.7555 - val_acc: 0.7350\n",
            "Epoch 25/30\n",
            "100/100 [==============================] - 9s 90ms/step - loss: 0.0952 - acc: 0.9685 - val_loss: 0.8314 - val_acc: 0.7050\n",
            "Epoch 26/30\n",
            "100/100 [==============================] - 9s 89ms/step - loss: 0.0812 - acc: 0.9760 - val_loss: 0.7454 - val_acc: 0.7350\n",
            "Epoch 27/30\n",
            "100/100 [==============================] - 9s 89ms/step - loss: 0.0725 - acc: 0.9805 - val_loss: 0.7282 - val_acc: 0.7500\n",
            "Epoch 28/30\n",
            "100/100 [==============================] - 9s 88ms/step - loss: 0.0641 - acc: 0.9820 - val_loss: 1.1322 - val_acc: 0.7150\n",
            "Epoch 29/30\n",
            "100/100 [==============================] - 9s 89ms/step - loss: 0.0549 - acc: 0.9850 - val_loss: 1.4123 - val_acc: 0.6850\n",
            "Epoch 30/30\n",
            "100/100 [==============================] - 9s 90ms/step - loss: 0.0481 - acc: 0.9870 - val_loss: 0.9145 - val_acc: 0.7750\n"
          ],
          "name": "stdout"
        }
      ]
    },
    {
      "cell_type": "code",
      "metadata": {
        "id": "MZaZ2HWZsNUi",
        "colab": {
          "base_uri": "https://localhost:8080/",
          "height": 545
        },
        "outputId": "7ce14a4d-492e-4c52-a34f-c1fdfabda6ad"
      },
      "source": [
        "model.save('cats_and_dogs_small_1.h5')\n",
        "\n",
        "import matplotlib.pyplot as plt\n",
        "\n",
        "acc = history.history['acc']\n",
        "val_acc = history.history['val_acc']\n",
        "loss = history.history['loss']\n",
        "val_loss = history.history['val_loss']\n",
        "\n",
        "epochs = range(1, len(acc) + 1)\n",
        "\n",
        "plt.plot(epochs, acc, 'bo', label='Training acc')\n",
        "plt.plot(epochs, val_acc, 'b', label='Validation acc')\n",
        "plt.title('Training and validation accuracy')\n",
        "plt.legend()\n",
        "\n",
        "plt.figure()\n",
        "\n",
        "plt.plot(epochs, loss, 'bo', label='Training loss')\n",
        "plt.plot(epochs, val_loss, 'b', label='Validation loss')\n",
        "plt.title('Training and validation loss')\n",
        "plt.legend()\n",
        "\n",
        "plt.show()"
      ],
      "execution_count": 14,
      "outputs": [
        {
          "output_type": "display_data",
          "data": {
            "image/png": "[encoded data removed]",
            "text/plain": [
              "<Figure size 432x288 with 1 Axes>"
            ]
          },
          "metadata": {
            "tags": [],
            "needs_background": "light"
          }
        },
        {
          "output_type": "display_data",
          "data": {
            "image/png": "[encoded data removed]",
            "text/plain": [
              "<Figure size 432x288 with 1 Axes>"
            ]
          },
          "metadata": {
            "tags": [],
            "needs_background": "light"
          }
        }
      ]
    },
    {
      "cell_type": "markdown",
      "metadata": {
        "id": "XKZmXmBcq_8-"
      },
      "source": [
        "## Convolutional Networks with Dropout\n",
        "\n",
        "![alt text](https://camo.githubusercontent.com/ee6fa1073247cd2c3d241300caf110d7a7541bc5/68747470733a2f2f63646e2d696d616765732d312e6d656469756d2e636f6d2f6d61782f3830302f312a4972644a355067684439596f4f7956415137334d4a772e676966)\n",
        "\n",
        "Ref: https://github.com/mneha4/Training-Neural-Nets---Guidelines"
      ]
    },
    {
      "cell_type": "code",
      "metadata": {
        "id": "wu3cqeYQrDeN"
      },
      "source": [
        "model = models.Sequential()\n",
        "model.add(layers.Conv2D(32, (3, 3), activation='relu',\n",
        "input_shape=(150, 150, 3)))\n",
        "model.add(layers.MaxPooling2D((2, 2)))\n",
        "model.add(layers.Conv2D(64, (3, 3), activation='relu'))\n",
        "model.add(layers.MaxPooling2D((2, 2)))\n",
        "model.add(layers.Conv2D(128, (3, 3), activation='relu'))\n",
        "model.add(layers.MaxPooling2D((2, 2)))\n",
        "model.add(layers.Conv2D(128, (3, 3), activation='relu'))\n",
        "model.add(layers.MaxPooling2D((2, 2)))\n",
        "model.add(layers.Flatten())\n",
        "model.add(layers.Dropout(0.5))\n",
        "model.add(layers.Dense(512, activation='relu'))\n",
        "model.add(layers.Dense(1, activation='sigmoid'))\n",
        "\n",
        "model.compile(loss='binary_crossentropy',\n",
        "              optimizer=optimizers.RMSprop(lr=1e-4),\n",
        "              metrics=['acc'])"
      ],
      "execution_count": 15,
      "outputs": []
    },
    {
      "cell_type": "code",
      "metadata": {
        "id": "QSeLpvY0rH7F",
        "colab": {
          "base_uri": "https://localhost:8080/"
        },
        "outputId": "2b592356-5c1d-4a28-a316-aba8d8ab3e2d"
      },
      "source": [
        "\n",
        "train_datagen = ImageDataGenerator(rescale=1./255,\n",
        "                                   rotation_range=40,\n",
        "                                   width_shift_range=0.2,\n",
        "                                   height_shift_range=0.2,\n",
        "                                   shear_range=0.2,\n",
        "                                   zoom_range=0.2,\n",
        "                                   horizontal_flip=True,)\n",
        "\n",
        "test_datagen = ImageDataGenerator(rescale=1./255)\n",
        "\n",
        "train_generator = train_datagen.flow_from_directory(train_dir,\n",
        "                                                    target_size=(150, 150),\n",
        "                                                    batch_size=32,\n",
        "                                                    class_mode='binary')\n",
        "\n",
        "validation_generator = test_datagen.flow_from_directory(validation_dir,\n",
        "                                                        target_size=(150, 150),\n",
        "                                                        batch_size=32,\n",
        "                                                        class_mode='binary')\n",
        "\n",
        "history = model.fit_generator(train_generator,\n",
        "                              steps_per_epoch=100,\n",
        "                              epochs=20,\n",
        "                              validation_data=validation_generator,\n",
        "                              validation_steps=50)"
      ],
      "execution_count": 16,
      "outputs": [
        {
          "output_type": "stream",
          "text": [
            "Found 2000 images belonging to 2 classes.\n",
            "Found 1000 images belonging to 2 classes.\n"
          ],
          "name": "stdout"
        },
        {
          "output_type": "stream",
          "text": [
            "/usr/local/lib/python3.7/dist-packages/tensorflow/python/keras/engine/training.py:1844: UserWarning: `Model.fit_generator` is deprecated and will be removed in a future version. Please use `Model.fit`, which supports generators.\n",
            "  warnings.warn('`Model.fit_generator` is deprecated and '\n"
          ],
          "name": "stderr"
        },
        {
          "output_type": "stream",
          "text": [
            "Epoch 1/20\n",
            " 63/100 [=================>............] - ETA: 10s - loss: 0.6986 - acc: 0.5045WARNING:tensorflow:Your input ran out of data; interrupting training. Make sure that your dataset or generator can generate at least `steps_per_epoch * epochs` batches (in this case, 2000 batches). You may need to use the repeat() function when building your dataset.\n"
          ],
          "name": "stdout"
        },
        {
          "output_type": "stream",
          "text": [
            "WARNING:tensorflow:Your input ran out of data; interrupting training. Make sure that your dataset or generator can generate at least `steps_per_epoch * epochs` batches (in this case, 2000 batches). You may need to use the repeat() function when building your dataset.\n"
          ],
          "name": "stderr"
        },
        {
          "output_type": "stream",
          "text": [
            "WARNING:tensorflow:Your input ran out of data; interrupting training. Make sure that your dataset or generator can generate at least `steps_per_epoch * epochs` batches (in this case, 50 batches). You may need to use the repeat() function when building your dataset.\n"
          ],
          "name": "stdout"
        },
        {
          "output_type": "stream",
          "text": [
            "WARNING:tensorflow:Your input ran out of data; interrupting training. Make sure that your dataset or generator can generate at least `steps_per_epoch * epochs` batches (in this case, 50 batches). You may need to use the repeat() function when building your dataset.\n"
          ],
          "name": "stderr"
        },
        {
          "output_type": "stream",
          "text": [
            "\b\b\b\b\b\b\b\b\b\b\b\b\b\b\b\b\b\b\b\b\b\b\b\b\b\b\b\b\b\b\b\b\b\b\b\b\b\b\b\b\b\b\b\b\b\b\b\b\b\b\b\b\b\b\b\b\b\b\b\b\b\b\b\b\b\b\b\b\b\b\b\b\b\b\b\b\b\b\b\b\r100/100 [==============================] - 23s 207ms/step - loss: 0.6971 - acc: 0.5069 - val_loss: 0.6869 - val_acc: 0.5370\n"
          ],
          "name": "stdout"
        }
      ]
    },
    {
      "cell_type": "markdown",
      "metadata": {
        "id": "BRdU5yrkUF_b"
      },
      "source": [
        "# Task 2:\n",
        "\n",
        "We have used Dropout to enhance the performance of the CNN model. Can you please use whatever you like to further enhance the performance from `val_acc: 0.7506`? "
      ]
    },
    {
      "cell_type": "code",
      "metadata": {
        "id": "ZHsz88YfDl20"
      },
      "source": [
        "# Follwing I have added some new layers to improve learning of the model as I was experimenting with this I got to know I have to train this model for at least 1000 epochs then only accuracy will jump above 75%, but just to satisfy this task I trained this model for 50 epochs."
      ],
      "execution_count": null,
      "outputs": []
    },
    {
      "cell_type": "code",
      "metadata": {
        "id": "_mrzjo2k0MMN"
      },
      "source": [
        "model=Sequential()\n",
        "model.add(Conv2D(32,(3,3),activation='relu',input_shape=(150, 150, 3)))\n",
        "model.add(BatchNormalization())\n",
        "model.add(MaxPooling2D(pool_size=(2,2)))\n",
        "model.add(Dropout(0.25))\n",
        "model.add(Conv2D(64,(3,3),activation='relu'))\n",
        "model.add(BatchNormalization())\n",
        "model.add(MaxPooling2D(pool_size=(2,2)))\n",
        "model.add(Dropout(0.25))\n",
        "model.add(Conv2D(128,(3,3),activation='relu'))\n",
        "model.add(BatchNormalization())\n",
        "model.add(MaxPooling2D(pool_size=(2,2)))\n",
        "model.add(Dropout(0.25))\n",
        "model.add(Flatten())\n",
        "model.add(Dense(512,activation='relu'))\n",
        "model.add(BatchNormalization())\n",
        "model.add(Dropout(0.5))\n",
        "\n",
        "model.add(Dense(1,activation='sigmoid'))\n",
        "\n",
        "from keras import optimizers\n",
        "model.compile(loss='binary_crossentropy', \n",
        "              optimizer=optimizers.RMSprop(lr=1e-4),\n",
        "              metrics=['acc'])"
      ],
      "execution_count": 68,
      "outputs": []
    },
    {
      "cell_type": "code",
      "metadata": {
        "id": "YaI3Qbo00Yhs",
        "outputId": "c8644aa9-ffa1-4b38-fb11-79e69b65cb52",
        "colab": {
          "base_uri": "https://localhost:8080/"
        }
      },
      "source": [
        "model.summary()"
      ],
      "execution_count": 69,
      "outputs": [
        {
          "output_type": "stream",
          "text": [
            "Model: \"sequential_12\"\n",
            "_________________________________________________________________\n",
            "Layer (type)                 Output Shape              Param #   \n",
            "=================================================================\n",
            "conv2d_32 (Conv2D)           (None, 148, 148, 32)      896       \n",
            "_________________________________________________________________\n",
            "batch_normalization_26 (Batc (None, 148, 148, 32)      128       \n",
            "_________________________________________________________________\n",
            "max_pooling2d_32 (MaxPooling (None, 74, 74, 32)        0         \n",
            "_________________________________________________________________\n",
            "dropout_26 (Dropout)         (None, 74, 74, 32)        0         \n",
            "_________________________________________________________________\n",
            "conv2d_33 (Conv2D)           (None, 72, 72, 64)        18496     \n",
            "_________________________________________________________________\n",
            "batch_normalization_27 (Batc (None, 72, 72, 64)        256       \n",
            "_________________________________________________________________\n",
            "max_pooling2d_33 (MaxPooling (None, 36, 36, 64)        0         \n",
            "_________________________________________________________________\n",
            "dropout_27 (Dropout)         (None, 36, 36, 64)        0         \n",
            "_________________________________________________________________\n",
            "conv2d_34 (Conv2D)           (None, 34, 34, 128)       73856     \n",
            "_________________________________________________________________\n",
            "batch_normalization_28 (Batc (None, 34, 34, 128)       512       \n",
            "_________________________________________________________________\n",
            "max_pooling2d_34 (MaxPooling (None, 17, 17, 128)       0         \n",
            "_________________________________________________________________\n",
            "dropout_28 (Dropout)         (None, 17, 17, 128)       0         \n",
            "_________________________________________________________________\n",
            "flatten_9 (Flatten)          (None, 36992)             0         \n",
            "_________________________________________________________________\n",
            "dense_18 (Dense)             (None, 512)               18940416  \n",
            "_________________________________________________________________\n",
            "batch_normalization_29 (Batc (None, 512)               2048      \n",
            "_________________________________________________________________\n",
            "dropout_29 (Dropout)         (None, 512)               0         \n",
            "_________________________________________________________________\n",
            "dense_19 (Dense)             (None, 1)                 513       \n",
            "=================================================================\n",
            "Total params: 19,037,121\n",
            "Trainable params: 19,035,649\n",
            "Non-trainable params: 1,472\n",
            "_________________________________________________________________\n"
          ],
          "name": "stdout"
        }
      ]
    },
    {
      "cell_type": "code",
      "metadata": {
        "id": "eckMFEEv0bAP"
      },
      "source": [
        ""
      ],
      "execution_count": 69,
      "outputs": []
    },
    {
      "cell_type": "code",
      "metadata": {
        "id": "3msWkdIL0m-o",
        "outputId": "77b4f5e6-0658-4516-9fd0-ac5671febdf9",
        "colab": {
          "base_uri": "https://localhost:8080/"
        }
      },
      "source": [
        "from keras.preprocessing.image import ImageDataGenerator\n",
        "\n",
        "train_datagen = ImageDataGenerator(rescale=1./255)\n",
        "test_datagen = ImageDataGenerator(rescale=1./255)\n",
        "\n",
        "train_generator = train_datagen.flow_from_directory(train_dir,\n",
        "                                                    target_size=(150, 150), \n",
        "                                                    batch_size=20,\n",
        "                                                    class_mode='binary')\n",
        "\n",
        "validation_generator = test_datagen.flow_from_directory(validation_dir,\n",
        "                                                        target_size=(150, 150),\n",
        "                                                        batch_size=20,\n",
        "                                                        class_mode='binary')"
      ],
      "execution_count": 70,
      "outputs": [
        {
          "output_type": "stream",
          "text": [
            "Found 2000 images belonging to 2 classes.\n",
            "Found 1000 images belonging to 2 classes.\n"
          ],
          "name": "stdout"
        }
      ]
    },
    {
      "cell_type": "code",
      "metadata": {
        "id": "1qTa_mVC000K"
      },
      "source": [
        ""
      ],
      "execution_count": 70,
      "outputs": []
    },
    {
      "cell_type": "code",
      "metadata": {
        "id": "fblF2wlh05AP",
        "outputId": "6c132050-1ba3-4625-ec7a-0860f938c8f0",
        "colab": {
          "base_uri": "https://localhost:8080/"
        }
      },
      "source": [
        "history = model.fit_generator(train_generator,\n",
        "                              steps_per_epoch=100,\n",
        "                              epochs=50,\n",
        "                              validation_data=validation_generator,\n",
        "                              validation_steps=10)"
      ],
      "execution_count": 71,
      "outputs": [
        {
          "output_type": "stream",
          "text": [
            "/usr/local/lib/python3.7/dist-packages/tensorflow/python/keras/engine/training.py:1844: UserWarning: `Model.fit_generator` is deprecated and will be removed in a future version. Please use `Model.fit`, which supports generators.\n",
            "  warnings.warn('`Model.fit_generator` is deprecated and '\n"
          ],
          "name": "stderr"
        },
        {
          "output_type": "stream",
          "text": [
            "Epoch 1/50\n",
            "100/100 [==============================] - 11s 93ms/step - loss: 1.0993 - acc: 0.5717 - val_loss: 0.6934 - val_acc: 0.5450\n",
            "Epoch 2/50\n",
            "100/100 [==============================] - 9s 90ms/step - loss: 0.6764 - acc: 0.7019 - val_loss: 0.7295 - val_acc: 0.5250\n",
            "Epoch 3/50\n",
            "100/100 [==============================] - 9s 90ms/step - loss: 0.5813 - acc: 0.7325 - val_loss: 1.1235 - val_acc: 0.5800\n",
            "Epoch 4/50\n",
            "100/100 [==============================] - 9s 91ms/step - loss: 0.4865 - acc: 0.7922 - val_loss: 2.1591 - val_acc: 0.5500\n",
            "Epoch 5/50\n",
            "100/100 [==============================] - 9s 93ms/step - loss: 0.4635 - acc: 0.7948 - val_loss: 1.3940 - val_acc: 0.6450\n",
            "Epoch 6/50\n",
            "100/100 [==============================] - 9s 92ms/step - loss: 0.4392 - acc: 0.8059 - val_loss: 1.3852 - val_acc: 0.6100\n",
            "Epoch 7/50\n",
            "100/100 [==============================] - 9s 92ms/step - loss: 0.3946 - acc: 0.8226 - val_loss: 1.3186 - val_acc: 0.6550\n",
            "Epoch 8/50\n",
            "100/100 [==============================] - 9s 92ms/step - loss: 0.3357 - acc: 0.8533 - val_loss: 1.3307 - val_acc: 0.6450\n",
            "Epoch 9/50\n",
            "100/100 [==============================] - 9s 92ms/step - loss: 0.3317 - acc: 0.8606 - val_loss: 1.6178 - val_acc: 0.6950\n",
            "Epoch 10/50\n",
            "100/100 [==============================] - 9s 92ms/step - loss: 0.2466 - acc: 0.8997 - val_loss: 1.2049 - val_acc: 0.6700\n",
            "Epoch 11/50\n",
            "100/100 [==============================] - 9s 92ms/step - loss: 0.2660 - acc: 0.8975 - val_loss: 0.8866 - val_acc: 0.6950\n",
            "Epoch 12/50\n",
            "100/100 [==============================] - 9s 92ms/step - loss: 0.2120 - acc: 0.9152 - val_loss: 1.5565 - val_acc: 0.6300\n",
            "Epoch 13/50\n",
            "100/100 [==============================] - 9s 91ms/step - loss: 0.2285 - acc: 0.8921 - val_loss: 1.0907 - val_acc: 0.6950\n",
            "Epoch 14/50\n",
            "100/100 [==============================] - 9s 92ms/step - loss: 0.2054 - acc: 0.9212 - val_loss: 1.2252 - val_acc: 0.6900\n",
            "Epoch 15/50\n",
            "100/100 [==============================] - 9s 91ms/step - loss: 0.1899 - acc: 0.9359 - val_loss: 1.0608 - val_acc: 0.7050\n",
            "Epoch 16/50\n",
            "100/100 [==============================] - 9s 91ms/step - loss: 0.1630 - acc: 0.9318 - val_loss: 1.3177 - val_acc: 0.7000\n",
            "Epoch 17/50\n",
            "100/100 [==============================] - 9s 91ms/step - loss: 0.1559 - acc: 0.9426 - val_loss: 1.3696 - val_acc: 0.6900\n",
            "Epoch 18/50\n",
            "100/100 [==============================] - 9s 91ms/step - loss: 0.1559 - acc: 0.9342 - val_loss: 1.3282 - val_acc: 0.7000\n",
            "Epoch 19/50\n",
            "100/100 [==============================] - 9s 92ms/step - loss: 0.1320 - acc: 0.9450 - val_loss: 1.1112 - val_acc: 0.7100\n",
            "Epoch 20/50\n",
            "100/100 [==============================] - 9s 91ms/step - loss: 0.1171 - acc: 0.9581 - val_loss: 1.0449 - val_acc: 0.6900\n",
            "Epoch 21/50\n",
            "100/100 [==============================] - 9s 92ms/step - loss: 0.1177 - acc: 0.9603 - val_loss: 1.2752 - val_acc: 0.6950\n",
            "Epoch 22/50\n",
            "100/100 [==============================] - 9s 91ms/step - loss: 0.1092 - acc: 0.9602 - val_loss: 1.1545 - val_acc: 0.7000\n",
            "Epoch 23/50\n",
            "100/100 [==============================] - 9s 92ms/step - loss: 0.0934 - acc: 0.9716 - val_loss: 1.3639 - val_acc: 0.7200\n",
            "Epoch 24/50\n",
            "100/100 [==============================] - 9s 92ms/step - loss: 0.0853 - acc: 0.9741 - val_loss: 0.9085 - val_acc: 0.7550\n",
            "Epoch 25/50\n",
            "100/100 [==============================] - 9s 92ms/step - loss: 0.0901 - acc: 0.9634 - val_loss: 0.8811 - val_acc: 0.7150\n",
            "Epoch 26/50\n",
            "100/100 [==============================] - 9s 92ms/step - loss: 0.0904 - acc: 0.9629 - val_loss: 1.2981 - val_acc: 0.6450\n",
            "Epoch 27/50\n",
            "100/100 [==============================] - 9s 91ms/step - loss: 0.0874 - acc: 0.9714 - val_loss: 1.1974 - val_acc: 0.7050\n",
            "Epoch 28/50\n",
            "100/100 [==============================] - 9s 91ms/step - loss: 0.0702 - acc: 0.9763 - val_loss: 1.3280 - val_acc: 0.6950\n",
            "Epoch 29/50\n",
            "100/100 [==============================] - 9s 91ms/step - loss: 0.0619 - acc: 0.9776 - val_loss: 1.5086 - val_acc: 0.7450\n",
            "Epoch 30/50\n",
            "100/100 [==============================] - 9s 92ms/step - loss: 0.0583 - acc: 0.9758 - val_loss: 1.3170 - val_acc: 0.6850\n",
            "Epoch 31/50\n",
            "100/100 [==============================] - 9s 92ms/step - loss: 0.0634 - acc: 0.9770 - val_loss: 1.3002 - val_acc: 0.6650\n",
            "Epoch 32/50\n",
            "100/100 [==============================] - 9s 92ms/step - loss: 0.0573 - acc: 0.9852 - val_loss: 1.2324 - val_acc: 0.7350\n",
            "Epoch 33/50\n",
            "100/100 [==============================] - 9s 92ms/step - loss: 0.0502 - acc: 0.9824 - val_loss: 1.4121 - val_acc: 0.6850\n",
            "Epoch 34/50\n",
            "100/100 [==============================] - 9s 92ms/step - loss: 0.0444 - acc: 0.9895 - val_loss: 0.9271 - val_acc: 0.7550\n",
            "Epoch 35/50\n",
            "100/100 [==============================] - 9s 91ms/step - loss: 0.0554 - acc: 0.9805 - val_loss: 1.0511 - val_acc: 0.7700\n",
            "Epoch 36/50\n",
            "100/100 [==============================] - 9s 91ms/step - loss: 0.0388 - acc: 0.9879 - val_loss: 1.2168 - val_acc: 0.7200\n",
            "Epoch 37/50\n",
            "100/100 [==============================] - 9s 92ms/step - loss: 0.0426 - acc: 0.9857 - val_loss: 0.9396 - val_acc: 0.7250\n",
            "Epoch 38/50\n",
            "100/100 [==============================] - 9s 91ms/step - loss: 0.0452 - acc: 0.9850 - val_loss: 0.9459 - val_acc: 0.7400\n",
            "Epoch 39/50\n",
            "100/100 [==============================] - 9s 92ms/step - loss: 0.0443 - acc: 0.9880 - val_loss: 1.3100 - val_acc: 0.7050\n",
            "Epoch 40/50\n",
            "100/100 [==============================] - 9s 91ms/step - loss: 0.0453 - acc: 0.9828 - val_loss: 1.1915 - val_acc: 0.7200\n",
            "Epoch 41/50\n",
            "100/100 [==============================] - 9s 92ms/step - loss: 0.0337 - acc: 0.9928 - val_loss: 1.1447 - val_acc: 0.7500\n",
            "Epoch 42/50\n",
            "100/100 [==============================] - 9s 92ms/step - loss: 0.0282 - acc: 0.9933 - val_loss: 1.0835 - val_acc: 0.6850\n",
            "Epoch 43/50\n",
            "100/100 [==============================] - 9s 91ms/step - loss: 0.0423 - acc: 0.9873 - val_loss: 1.0018 - val_acc: 0.7550\n",
            "Epoch 44/50\n",
            "100/100 [==============================] - 9s 92ms/step - loss: 0.0363 - acc: 0.9871 - val_loss: 1.1908 - val_acc: 0.7150\n",
            "Epoch 45/50\n",
            "100/100 [==============================] - 9s 92ms/step - loss: 0.0340 - acc: 0.9870 - val_loss: 0.9128 - val_acc: 0.7450\n",
            "Epoch 46/50\n",
            "100/100 [==============================] - 9s 92ms/step - loss: 0.0497 - acc: 0.9853 - val_loss: 1.2206 - val_acc: 0.6900\n",
            "Epoch 47/50\n",
            "100/100 [==============================] - 9s 92ms/step - loss: 0.0323 - acc: 0.9910 - val_loss: 0.8845 - val_acc: 0.7650\n",
            "Epoch 48/50\n",
            "100/100 [==============================] - 9s 92ms/step - loss: 0.0335 - acc: 0.9867 - val_loss: 1.2942 - val_acc: 0.7000\n",
            "Epoch 49/50\n",
            "100/100 [==============================] - 9s 92ms/step - loss: 0.0333 - acc: 0.9910 - val_loss: 0.9775 - val_acc: 0.7450\n",
            "Epoch 50/50\n",
            "100/100 [==============================] - 9s 92ms/step - loss: 0.0329 - acc: 0.9894 - val_loss: 0.8794 - val_acc: 0.7550\n"
          ],
          "name": "stdout"
        }
      ]
    },
    {
      "cell_type": "code",
      "metadata": {
        "id": "Kp7gp_2HCAlZ",
        "outputId": "b758f865-b19a-4aef-fce7-41a56128276f",
        "colab": {
          "base_uri": "https://localhost:8080/",
          "height": 545
        }
      },
      "source": [
        "acc = history.history['acc']\n",
        "val_acc = history.history['val_acc']\n",
        "loss = history.history['loss']\n",
        "val_loss = history.history['val_loss']\n",
        "\n",
        "epochs = range(1, len(acc) + 1)\n",
        "\n",
        "plt.plot(epochs, acc, 'bo', label='Training acc')\n",
        "plt.plot(epochs, val_acc, 'b', label='Validation acc')\n",
        "plt.title('Training and validation accuracy')\n",
        "plt.legend()\n",
        "\n",
        "plt.figure()\n",
        "\n",
        "plt.plot(epochs, loss, 'bo', label='Training loss')\n",
        "plt.plot(epochs, val_loss, 'b', label='Validation loss')\n",
        "plt.title('Training and validation loss')\n",
        "plt.legend()\n",
        "\n",
        "plt.show()"
      ],
      "execution_count": 72,
      "outputs": [
        {
          "output_type": "display_data",
          "data": {
            "image/png": "[encoded data removed]",
            "text/plain": [
              "<Figure size 432x288 with 1 Axes>"
            ]
          },
          "metadata": {
            "tags": [],
            "needs_background": "light"
          }
        },
        {
          "output_type": "display_data",
          "data": {
            "image/png": "[encoded data removed]",
            "text/plain": [
              "<Figure size 432x288 with 1 Axes>"
            ]
          },
          "metadata": {
            "tags": [],
            "needs_background": "light"
          }
        }
      ]
    },
    {
      "cell_type": "code",
      "metadata": {
        "id": "OHRBMAsSK5kP"
      },
      "source": [
        "# as we can see the last epoch we can say that 0.7550 > 0.7506, if we train this for more epochs the accuracy will become better than this."
      ],
      "execution_count": null,
      "outputs": []
    }
  ]
}